{
 "cells": [
  {
   "cell_type": "markdown",
   "metadata": {},
   "source": [
    "## Replace the dev_id, auth_key, and player_name with you developer id, authentication id (from HiRez), and your in-game player name."
   ]
  },
  {
   "cell_type": "code",
   "execution_count": 1,
   "metadata": {},
   "outputs": [],
   "source": [
    "import pyrez\n",
    "import numpy as np\n",
    "\n",
    "dev_id = '3517'\n",
    "auth_key = '53D2B2F917B64EA489E6DF71846846C6'\n",
    "player_name = 'Wakamar'\n",
    "paladins = pyrez.PaladinsAPI(dev_id, auth_key)"
   ]
  },
  {
   "cell_type": "markdown",
   "metadata": {},
   "source": [
    "## Gets a backlog of match data by pulling match ids from paladins.guru. The paladins API only gives the most recent 50 matches for the player and this is a way to get more. Only run to get the first set of matches, otherwise use the code for updating with recent matches."
   ]
  },
  {
   "cell_type": "code",
   "execution_count": null,
   "metadata": {},
   "outputs": [],
   "source": [
    "from lxml import html\n",
    "import requests\n",
    "import re\n",
    "import pickle\n",
    "\n",
    "player_id = paladins.getPlayer(player_name)['ActivePlayerId']\n",
    "id_list = []\n",
    "for j in range(1, 13):\n",
    "    page = requests.get('https://paladins.guru/profile/' + str(player_id) + '-' + player_name + '/matches?page=' + str(j))\n",
    "    indexes = [m.start() for m in re.finditer('/match/', page.content.decode(\"utf-8\"))]\n",
    "\n",
    "    for i in indexes:\n",
    "        id_list.append(page.content.decode(\"utf-8\")[i+7:i+16])\n",
    "        \n",
    "match_list = []\n",
    "for j in id_list:\n",
    "    match = paladins.getMatch(j)\n",
    "    if len(match) != 0:\n",
    "        match_list.append(match)\n",
    "        \n",
    "with open('match_list.pkl', 'wb') as f:\n",
    "    pickle.dump(match_list, f)\n",
    "f.close()"
   ]
  },
  {
   "cell_type": "markdown",
   "metadata": {},
   "source": [
    "## Updates the match list with recent matches. It is recommended to make a copy of match_list.py after running to avoid it being overwritten from accidentally running the code to get matches from paladins.guru."
   ]
  },
  {
   "cell_type": "code",
   "execution_count": 2,
   "metadata": {},
   "outputs": [
    {
     "name": "stderr",
     "output_type": "stream",
     "text": [
      "2020-08-29 12:48:17 PaladinsAPI [DEBUG] Invalid session id. (53BBD57F314B46D9AECA70D7670BCE6B)\n",
      "2020-08-29 12:48:17 PaladinsAPI [DEBUG] Approved: (Old session: 53BBD57F314B46D9AECA70D7670BCE6B, new session: EF87B8D8B35C4118B11D43B80AE952F4)\n"
     ]
    },
    {
     "name": "stdout",
     "output_type": "stream",
     "text": [
      "4 218\n",
      "222\n"
     ]
    }
   ],
   "source": [
    "new_matches = paladins.getMatchHistory(player_name)\n",
    "\n",
    "import pickle\n",
    "import numpy as np\n",
    "\n",
    "with open('match_list.pkl', 'rb') as f:\n",
    "    match_list = pickle.load(f)\n",
    "f.close()\n",
    "\n",
    "match_ids = []\n",
    "for match in match_list:\n",
    "    match_ids.append(match[0]['Match'])\n",
    "\n",
    "new_match_ids = []\n",
    "for match in new_matches:\n",
    "    if match['Match'] not in match_ids and 'Training' not in match['Queue']:\n",
    "        new_match_ids.append(match['Match'])\n",
    "        \n",
    "print(len(new_match_ids), len(match_list))\n",
    "\n",
    "for j in new_match_ids:\n",
    "    match = paladins.getMatch(j)\n",
    "    if len(match) != 0:\n",
    "        match_list.append(match)\n",
    "        \n",
    "print(len(match_list))\n",
    "\n",
    "with open('match_list.pkl', 'wb') as f:\n",
    "    pickle.dump(match_list, f)\n",
    "f.close()"
   ]
  }
 ],
 "metadata": {
  "kernelspec": {
   "display_name": "Python 3",
   "language": "python",
   "name": "python3"
  },
  "language_info": {
   "codemirror_mode": {
    "name": "ipython",
    "version": 3
   },
   "file_extension": ".py",
   "mimetype": "text/x-python",
   "name": "python",
   "nbconvert_exporter": "python",
   "pygments_lexer": "ipython3",
   "version": "3.6.8"
  }
 },
 "nbformat": 4,
 "nbformat_minor": 2
}
